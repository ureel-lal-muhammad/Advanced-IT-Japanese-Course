{
  "nbformat": 4,
  "nbformat_minor": 0,
  "metadata": {
    "colab": {
      "provenance": []
    },
    "kernelspec": {
      "name": "python3",
      "display_name": "Python 3"
    },
    "language_info": {
      "name": "python"
    }
  },
  "cells": [
    {
      "cell_type": "code",
      "source": [
        "#Functions as first class objects\n",
        "\n",
        "#assigning function to some variable\n",
        "\n",
        "def say_hello():\n",
        "  print(\"Helloo, I learning the python languaege\")\n",
        "greet = say_hello\n",
        "\n",
        "say_hello()\n"
      ],
      "metadata": {
        "colab": {
          "base_uri": "https://localhost:8080/"
        },
        "id": "xszvcDnA2uLA",
        "outputId": "853be492-5772-4e91-9cb3-4b24d812f9dc"
      },
      "execution_count": 41,
      "outputs": [
        {
          "output_type": "stream",
          "name": "stdout",
          "text": [
            "Helloo, I learning the python languaege\n"
          ]
        }
      ]
    },
    {
      "cell_type": "code",
      "source": [
        "#Passing functions as an arguments\n",
        "def add(x,y):\n",
        "  return x + y\n",
        "\n",
        "def operate_numbers(f,a,b):\n",
        "  return f(a,b)\n",
        "\n",
        "result = operate_numbers(add,2,3)\n",
        "\n",
        "print(result)\n",
        "\n",
        "\n"
      ],
      "metadata": {
        "colab": {
          "base_uri": "https://localhost:8080/"
        },
        "id": "d58lTmgB69j-",
        "outputId": "082949e9-433d-4f5d-db6f-95f939e43969"
      },
      "execution_count": 43,
      "outputs": [
        {
          "output_type": "stream",
          "name": "stdout",
          "text": [
            "5\n"
          ]
        }
      ]
    },
    {
      "cell_type": "code",
      "source": [
        "#Retruning functions from other function\n",
        "\n",
        "def multiplier(factor):\n",
        "  def multiply(num):\n",
        "    return num * factor\n",
        "  return multiply\n",
        "\n",
        "double = multiplier(2) # Set factor = 2\n",
        "\n",
        "print(double(5))  #double is basically multiply function (inner function)\n",
        "\n",
        "#10"
      ],
      "metadata": {
        "colab": {
          "base_uri": "https://localhost:8080/"
        },
        "id": "dVlKH8U-78g_",
        "outputId": "2d61a472-5e7d-496a-97fb-c856c441e32f"
      },
      "execution_count": 44,
      "outputs": [
        {
          "output_type": "stream",
          "name": "stdout",
          "text": [
            "10\n"
          ]
        }
      ]
    },
    {
      "cell_type": "code",
      "source": [
        "#rescursive function\n",
        "\n",
        "def factorial(n):\n",
        "  if n == 1:\n",
        "    return 1\n",
        "  return n * factorial(n-1)\n",
        "\n",
        "print(factorial(5))   #120"
      ],
      "metadata": {
        "colab": {
          "base_uri": "https://localhost:8080/"
        },
        "id": "pUwP5Bua9ANH",
        "outputId": "26c71448-2bf9-4c49-b60d-f4e99f0b1972"
      },
      "execution_count": 45,
      "outputs": [
        {
          "output_type": "stream",
          "name": "stdout",
          "text": [
            "120\n"
          ]
        }
      ]
    },
    {
      "cell_type": "code",
      "source": [
        "#Doc strings\n",
        "\n",
        "def calculator(values):\n",
        "  \"\"\"This function is basically used for the calculation \"\"\"\n",
        "  pass"
      ],
      "metadata": {
        "id": "DKL3pwUU9mI4"
      },
      "execution_count": 46,
      "outputs": []
    },
    {
      "cell_type": "code",
      "source": [
        "help(calculator)"
      ],
      "metadata": {
        "colab": {
          "base_uri": "https://localhost:8080/"
        },
        "id": "ljoxjJ5M-Fa8",
        "outputId": "b449df4e-b4c1-43eb-b3e5-e6c9153af34f"
      },
      "execution_count": 47,
      "outputs": [
        {
          "output_type": "stream",
          "name": "stdout",
          "text": [
            "Help on function calculator in module __main__:\n",
            "\n",
            "calculator(values)\n",
            "    This function is basically used for the calculation\n",
            "\n"
          ]
        }
      ]
    },
    {
      "cell_type": "code",
      "source": [
        "#local and global varibales/scope"
      ],
      "metadata": {
        "id": "Yq7lI4wP-M4R"
      },
      "execution_count": null,
      "outputs": []
    },
    {
      "cell_type": "code",
      "source": [
        "#local variable can use only inside the fucntion\n",
        "#global variable can use both outside and inside the function\n",
        "\n",
        "#local variable\n",
        "\n",
        "def calculator():\n",
        "  a = 10\n",
        "  b = 20\n",
        "  print(f\"Addition of 2 numbers are: {a+b}\")\n",
        "\n",
        "calculator()"
      ],
      "metadata": {
        "colab": {
          "base_uri": "https://localhost:8080/"
        },
        "id": "1uBRvNLt99Ht",
        "outputId": "76732bfa-d093-4da5-dc38-9798d64031ce"
      },
      "execution_count": 49,
      "outputs": [
        {
          "output_type": "stream",
          "name": "stdout",
          "text": [
            "Addition of 2 numbers are: 30\n"
          ]
        }
      ]
    },
    {
      "cell_type": "code",
      "source": [
        "#Global variable\n",
        "a = 10\n",
        "b = 20\n",
        "def calculator():\n",
        "\n",
        "  print(f\"Addition of 2 numbers are: {a+b}\")\n",
        "\n",
        "calculator()"
      ],
      "metadata": {
        "colab": {
          "base_uri": "https://localhost:8080/"
        },
        "id": "C_s9nvBZ_OaX",
        "outputId": "8bcc8ad1-0f25-4b98-bd45-800e4293cca2"
      },
      "execution_count": 50,
      "outputs": [
        {
          "output_type": "stream",
          "name": "stdout",
          "text": [
            "Addition of 2 numbers are: 30\n"
          ]
        }
      ]
    },
    {
      "cell_type": "code",
      "source": [
        "a = 10\n",
        "b = 20\n",
        "def calculator():\n",
        "  global a\n",
        "  a = 20\n",
        "  print(f\"Addition of 2 numbers are: {a+b}\")\n",
        "\n",
        "calculator()"
      ],
      "metadata": {
        "id": "S6Y7HcGU_aqe"
      },
      "execution_count": null,
      "outputs": []
    },
    {
      "cell_type": "code",
      "source": [
        "def outer():\n",
        "  x = 5\n",
        "  def inner():\n",
        "    nonlocal x\n",
        "    x = 10\n",
        "  inner()\n",
        "  print(\"Outer function x value is:\", x)\n",
        "outer()"
      ],
      "metadata": {
        "colab": {
          "base_uri": "https://localhost:8080/"
        },
        "id": "vrXwuBeP_yUe",
        "outputId": "40825f0b-4349-43b4-e663-c16474ad8129"
      },
      "execution_count": 52,
      "outputs": [
        {
          "output_type": "stream",
          "name": "stdout",
          "text": [
            "Outer function x value is: 10\n"
          ]
        }
      ]
    },
    {
      "cell_type": "code",
      "source": [
        "pip install numpy\n",
        "\n",
        "import numpy as np"
      ],
      "metadata": {
        "colab": {
          "base_uri": "https://localhost:8080/"
        },
        "id": "i7fg1ukrBJK_",
        "outputId": "5b682591-4f01-4cee-81a8-34d1c039adee"
      },
      "execution_count": 53,
      "outputs": [
        {
          "output_type": "stream",
          "name": "stdout",
          "text": [
            "Requirement already satisfied: numpy in /usr/local/lib/python3.11/dist-packages (1.26.4)\n"
          ]
        }
      ]
    },
    {
      "cell_type": "code",
      "source": [
        "#python list and Numpy Array\n",
        "py_list = [1,2,3,4,5]\n",
        "np_array = np.array([1,2,3,4,5])\n",
        "\n",
        "print(type(py_list))\n",
        "print(type(np_array))"
      ],
      "metadata": {
        "colab": {
          "base_uri": "https://localhost:8080/"
        },
        "id": "nnhq1CwEBOkF",
        "outputId": "ba2b05cd-fe18-433c-dfba-2184698613bb"
      },
      "execution_count": 55,
      "outputs": [
        {
          "output_type": "stream",
          "name": "stdout",
          "text": [
            "<class 'list'>\n",
            "<class 'numpy.ndarray'>\n"
          ]
        }
      ]
    },
    {
      "cell_type": "code",
      "source": [
        "#1D array\n",
        "\n",
        "arr_1d = np.array([1,2,3,4,5])\n",
        "print(arr_1d)\n",
        "\n",
        "#2D array\n",
        "arr_2d = np.array([[1,2,3],    #2x3 matrix\n",
        "                   [4,5,6]])\n",
        "print(arr_2d)\n",
        "\n",
        "print(arr_2d.ndim)"
      ],
      "metadata": {
        "colab": {
          "base_uri": "https://localhost:8080/"
        },
        "id": "XxOJy7FIBz3x",
        "outputId": "fc64aac6-c771-431c-dec1-23b7b3e6fb3f"
      },
      "execution_count": 57,
      "outputs": [
        {
          "output_type": "stream",
          "name": "stdout",
          "text": [
            "[1 2 3 4 5]\n",
            "[[1 2 3]\n",
            " [4 5 6]]\n",
            "2\n"
          ]
        }
      ]
    },
    {
      "cell_type": "code",
      "source": [
        "#arrays filled with zeros\n",
        "zeros_array = np.zeros((2,3))\n",
        "print(zeros_array)\n",
        "\n",
        "#arrays filled with ones\n",
        "zeros_array = np.ones((2,3))\n",
        "print(zeros_array)\n",
        "\n",
        "#arrays filled with nine\n",
        "zeros_array = np.full((2,3), 8)\n",
        "print(zeros_array)"
      ],
      "metadata": {
        "colab": {
          "base_uri": "https://localhost:8080/"
        },
        "id": "DKr83FzvCk2R",
        "outputId": "a0a0f49d-18a0-41eb-cdc9-cf86cef6fd6c"
      },
      "execution_count": 63,
      "outputs": [
        {
          "output_type": "stream",
          "name": "stdout",
          "text": [
            "[[0. 0. 0.]\n",
            " [0. 0. 0.]]\n",
            "[[1. 1. 1.]\n",
            " [1. 1. 1.]]\n",
            "[[8 8 8]\n",
            " [8 8 8]]\n"
          ]
        }
      ]
    },
    {
      "cell_type": "code",
      "source": [
        "# def array_function()\n",
        "#array filled with evenly spaced value\n",
        "\n",
        "linspace_array = np.linspace(1,10,5)\n",
        "print(linspace_array)\n",
        "\n",
        "#array filled with range of numbers\n",
        "\n",
        "range_array = np.arange(1,10,5)\n",
        "print(range_array)\n"
      ],
      "metadata": {
        "colab": {
          "base_uri": "https://localhost:8080/"
        },
        "id": "VzpXayXLDaEy",
        "outputId": "78e9fc7e-4eb7-4fcb-9434-5f807deea58b"
      },
      "execution_count": 71,
      "outputs": [
        {
          "output_type": "stream",
          "name": "stdout",
          "text": [
            "[ 1.    3.25  5.5   7.75 10.  ]\n",
            "[1 6]\n"
          ]
        }
      ]
    },
    {
      "cell_type": "code",
      "source": [
        "#Create a random arrays\n",
        "\n",
        "#array between 0 & 1\n",
        "\n",
        "random_array = np.random.rand(3,3)\n",
        "print(random_array)\n",
        "\n",
        "#array between 1 & 99\n",
        "\n",
        "random_array = np.random.randint(1,100, (3,3))\n",
        "print(random_array.ndim)"
      ],
      "metadata": {
        "colab": {
          "base_uri": "https://localhost:8080/"
        },
        "id": "v2RCU776FAIo",
        "outputId": "eb18a4df-bf17-41f6-ccd4-342efb863cc9"
      },
      "execution_count": 74,
      "outputs": [
        {
          "output_type": "stream",
          "name": "stdout",
          "text": [
            "[[0.23569332 0.03533213 0.46801775]\n",
            " [0.4959247  0.69442401 0.88681905]\n",
            " [0.09531606 0.61973938 0.13511464]]\n",
            "2\n"
          ]
        }
      ]
    },
    {
      "cell_type": "code",
      "source": [
        "#Shape, Size and Dimension of array\n",
        "\n",
        "arr = np.array([[1,2,3],\n",
        "                [3,4,5]])\n",
        "\n",
        "print(arr.shape)\n",
        "\n",
        "print(arr.size)\n"
      ],
      "metadata": {
        "colab": {
          "base_uri": "https://localhost:8080/"
        },
        "id": "uSbz1RZlFom5",
        "outputId": "2a016ac4-5970-4498-f88c-944560f532c0"
      },
      "execution_count": 77,
      "outputs": [
        {
          "output_type": "stream",
          "name": "stdout",
          "text": [
            "(2, 3)\n",
            "6\n"
          ]
        }
      ]
    },
    {
      "cell_type": "code",
      "source": [
        "#reshaping the arrays\n",
        "\n",
        "arr = np.array([1,2,3,5,6])\n",
        "\n",
        "arr_reshaped = arr.reshape((2,3))\n",
        "print(arr_reshaped)"
      ],
      "metadata": {
        "colab": {
          "base_uri": "https://localhost:8080/"
        },
        "id": "N0lbDaLJGHIW",
        "outputId": "392584e1-1f3e-41c6-84df-3bdaadd9973b"
      },
      "execution_count": 78,
      "outputs": [
        {
          "output_type": "stream",
          "name": "stdout",
          "text": [
            "[[1 2 3]\n",
            " [4 5 6]]\n"
          ]
        }
      ]
    },
    {
      "cell_type": "code",
      "source": [
        "\n",
        "\n",
        "\n",
        "\n",
        "arr2  = np.array([4,5,6])\n",
        "\n",
        "print(arr1 + arr2)"
      ],
      "metadata": {
        "colab": {
          "base_uri": "https://localhost:8080/"
        },
        "id": "Awop8vxoGVwx",
        "outputId": "860e0793-b696-46ba-d42e-466dc5638187"
      },
      "execution_count": 79,
      "outputs": [
        {
          "output_type": "stream",
          "name": "stdout",
          "text": [
            "[5 7 9]\n"
          ]
        }
      ]
    },
    {
      "cell_type": "code",
      "source": [
        "#min, max, sum\n",
        "\n",
        "arr = np.array([[1,2,3],\n",
        "                [3,4,5]])\n",
        "\n",
        "print(np.max(arr))\n",
        "print(np.min(arr))\n",
        "print(np.sum(arr))"
      ],
      "metadata": {
        "colab": {
          "base_uri": "https://localhost:8080/"
        },
        "id": "2tUI_4gpGzqX",
        "outputId": "93cf7c7f-887d-44f4-a7fd-75d2712aae0a"
      },
      "execution_count": 81,
      "outputs": [
        {
          "output_type": "stream",
          "name": "stdout",
          "text": [
            "5\n",
            "1\n",
            "18\n"
          ]
        }
      ]
    },
    {
      "cell_type": "code",
      "source": [
        "#array indexing\n",
        "\n",
        "arr = np.array([[1,2,3],\n",
        "                [3,4,5],\n",
        "                [4,5,6]])\n",
        "\n",
        "\n",
        "print(arr[-1,-1])\n"
      ],
      "metadata": {
        "id": "M4BuNunQHXLk"
      },
      "execution_count": null,
      "outputs": []
    },
    {
      "cell_type": "code",
      "source": [
        "#slicing concept\n",
        "arr1  = np.array([1,2,3])\n",
        "\n",
        "arr1[::-1]\n",
        "\n",
        "arr = np.array([[1,2,3],\n",
        "                [3,4,5],\n",
        "                [4,5,6]])\n",
        "\n",
        "arr[:,1:3]"
      ],
      "metadata": {
        "colab": {
          "base_uri": "https://localhost:8080/"
        },
        "id": "GpG7MajqIF9S",
        "outputId": "e5d48af1-99dd-4e98-fe07-13b0cd8ab108"
      },
      "execution_count": 82,
      "outputs": [
        {
          "output_type": "execute_result",
          "data": {
            "text/plain": [
              "array([[2, 3],\n",
              "       [4, 5],\n",
              "       [5, 6]])"
            ]
          },
          "metadata": {},
          "execution_count": 82
        }
      ]
    },
    {
      "cell_type": "code",
      "source": [
        "#conditonal filtering\n",
        "arr1  = np.array([1,2,3])\n",
        "result = np.where(arr1 > 10)\n",
        "\n",
        "print(result)\n"
      ],
      "metadata": {
        "id": "FM4nM-QdIwvQ"
      },
      "execution_count": null,
      "outputs": []
    },
    {
      "cell_type": "code",
      "source": [
        "# np.take()\n",
        "\n",
        "arr1  = np.array([1,2,3])\n",
        "\n",
        "np.put(arr1,[0,1],[10,20])\n",
        "\n",
        "print(arr1)\n"
      ],
      "metadata": {
        "colab": {
          "base_uri": "https://localhost:8080/"
        },
        "id": "bgOuC_G4I8WI",
        "outputId": "dde84176-ff89-4cdb-cfa7-fd46d204939f"
      },
      "execution_count": 85,
      "outputs": [
        {
          "output_type": "stream",
          "name": "stdout",
          "text": [
            "[10 20  3]\n"
          ]
        }
      ]
    }
  ]
}