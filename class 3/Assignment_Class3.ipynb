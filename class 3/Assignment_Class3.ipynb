{
  "cells": [
    {
      "cell_type": "markdown",
      "metadata": {
        "id": "XgE_-pJ0QAfl"
      },
      "source": [
        "# Assignment 3"
      ]
    },
    {
      "cell_type": "markdown",
      "metadata": {
        "id": "ggiPCY3jQE-x"
      },
      "source": [
        "1. Implement a to-do list application where users can add,\n",
        "remove, and view tasks"
      ]
    },
    {
      "cell_type": "code",
      "execution_count": 13,
      "metadata": {
        "id": "gc1GxXvEP8Tc"
      },
      "outputs": [],
      "source": [
        "tasks= []"
      ]
    },
    {
      "cell_type": "code",
      "execution_count": 14,
      "metadata": {
        "id": "7AnqKpLMQULT"
      },
      "outputs": [],
      "source": [
        "def add_task(task):\n",
        "  tasks.append(task)\n",
        "\n",
        "def remove_task(task):\n",
        "  if task in tasks:\n",
        "    tasks.remove(task)\n",
        "    view_tasks()\n",
        "  else:\n",
        "    print(\"Task not found\")\n",
        "\n",
        "def view_tasks():\n",
        "  for task in tasks:\n",
        "    print(task)"
      ]
    },
    {
      "cell_type": "code",
      "execution_count": 15,
      "metadata": {
        "colab": {
          "base_uri": "https://localhost:8080/"
        },
        "id": "CmwNDL_QQo5S",
        "outputId": "ed6ed66d-f96b-4bc2-f52b-1fba62593993"
      },
      "outputs": [
        {
          "name": "stdout",
          "output_type": "stream",
          "text": [
            "Finish homework\n",
            "Buy groceries\n",
            "Finish homework\n"
          ]
        }
      ],
      "source": [
        "add_task(\"Finish homework\")\n",
        "add_task(\"Buy groceries\")\n",
        "view_tasks()\n",
        "remove_task(\"Buy groceries\")"
      ]
    },
    {
      "cell_type": "markdown",
      "metadata": {
        "id": "Kham0gYmRPnk"
      },
      "source": [
        "2. Find Maximum and Minimum Values in a List\n"
      ]
    },
    {
      "cell_type": "code",
      "execution_count": 16,
      "metadata": {
        "id": "mxKPnsnrRQvi"
      },
      "outputs": [],
      "source": [
        "def find_max_min(lst):\n",
        "  max_val = lst[0]\n",
        "  min_val = lst[0]\n",
        "  for num in lst:\n",
        "    if num > max_val:\n",
        "      max_val = num\n",
        "    if num < min_val:\n",
        "      min_val = num\n",
        "  return max_val, min_val\n"
      ]
    },
    {
      "cell_type": "code",
      "execution_count": 17,
      "metadata": {
        "colab": {
          "base_uri": "https://localhost:8080/"
        },
        "id": "-NebzGR8RzgB",
        "outputId": "23f788f9-90d4-4a66-e7fd-8af8fc4bd2b0"
      },
      "outputs": [
        {
          "name": "stdout",
          "output_type": "stream",
          "text": [
            "Max: 9, Min: 1\n"
          ]
        }
      ],
      "source": [
        "numbers = [3, 9, 2, 8, 1]\n",
        "max_val, min_val = find_max_min(numbers)\n",
        "print(f\"Max: {max_val}, Min: {min_val}\")"
      ]
    },
    {
      "cell_type": "markdown",
      "metadata": {
        "id": "ksKurFooR2Rp"
      },
      "source": [
        "3. Create a Simple Phonebook Using Dictionaries"
      ]
    },
    {
      "cell_type": "code",
      "execution_count": 18,
      "metadata": {
        "id": "rvSJMkp6R3ep"
      },
      "outputs": [],
      "source": [
        "phonebook = {}"
      ]
    },
    {
      "cell_type": "code",
      "execution_count": 19,
      "metadata": {
        "id": "2FFrhmiTR7bm"
      },
      "outputs": [],
      "source": [
        "def add_contact(name, number):\n",
        "  phonebook[name] = number\n",
        "\n",
        "def get_number(name):\n",
        "  return phonebook.get(name, \"Contact not found\")\n",
        "\n"
      ]
    },
    {
      "cell_type": "code",
      "execution_count": 20,
      "metadata": {
        "colab": {
          "base_uri": "https://localhost:8080/"
        },
        "id": "iKs98G4sSIlW",
        "outputId": "194736f6-7c82-4ddb-972a-1f93742b802e"
      },
      "outputs": [
        {
          "name": "stdout",
          "output_type": "stream",
          "text": [
            "1234567890\n"
          ]
        }
      ],
      "source": [
        "add_contact(\"Alice\", \"1234567890\")\n",
        "add_contact(\"Bob\", \"9876543210\")\n",
        "print(get_number(\"Alice\"))"
      ]
    },
    {
      "cell_type": "markdown",
      "metadata": {
        "id": "k5_iyZVqSM2L"
      },
      "source": [
        "3. Inventory System (Using Dictionaries)"
      ]
    },
    {
      "cell_type": "code",
      "execution_count": 21,
      "metadata": {
        "id": "YDQzOc0dSNxR"
      },
      "outputs": [],
      "source": [
        "inventory = {}"
      ]
    },
    {
      "cell_type": "code",
      "execution_count": 22,
      "metadata": {
        "id": "nKimNqbfSTGc"
      },
      "outputs": [],
      "source": [
        "def add_item(item, quantity):\n",
        "  if item in inventory:\n",
        "    inventory[item] += quantity\n",
        "  else:\n",
        "    inventory[item] = quantity\n",
        "\n",
        "def remove_item(item, quantity):\n",
        "  if item in inventory and inventory[item] >= quantity:\n",
        "    inventory[item] -= quantity\n",
        "  elif inventory[item] == 0:\n",
        "    del inventory[item]\n",
        "  else:\n",
        "    print(f\"Insufficient quantity of {item}.\")\n",
        "\n",
        "def view_inventory():\n",
        "  for item, quantity in inventory.items():\n",
        "    print(f\"{item}: {quantity}\")"
      ]
    },
    {
      "cell_type": "code",
      "execution_count": 23,
      "metadata": {
        "colab": {
          "base_uri": "https://localhost:8080/"
        },
        "id": "Q4GgUo_nS462",
        "outputId": "68da0b04-7280-46da-afe2-ab878769d6dc"
      },
      "outputs": [
        {
          "name": "stdout",
          "output_type": "stream",
          "text": [
            "Apple: 7\n",
            "Banana: 5\n"
          ]
        }
      ],
      "source": [
        "add_item(\"Apple\", 10)\n",
        "add_item(\"Banana\", 5)\n",
        "remove_item(\"Apple\", 3)\n",
        "view_inventory()"
      ]
    },
    {
      "cell_type": "markdown",
      "metadata": {
        "id": "5tgD284TTY5R"
      },
      "source": [
        "3. ATM System Simulation with Global Variables\n"
      ]
    },
    {
      "cell_type": "code",
      "execution_count": 24,
      "metadata": {
        "colab": {
          "base_uri": "https://localhost:8080/"
        },
        "id": "Ionh7QdATZ6S",
        "outputId": "2974aa0d-593a-4257-d942-9c89a20d926f"
      },
      "outputs": [
        {
          "name": "stdout",
          "output_type": "stream",
          "text": [
            "Deposited: 500. New balance: 1500\n",
            "Withdrew: 200. New balance: 1300\n",
            "Current balance: 1300\n"
          ]
        }
      ],
      "source": [
        "def deposit(balance, amount):\n",
        "  balance += amount\n",
        "  print(f\"Deposited: {amount}. New balance: {balance}\")\n",
        "  return balance # Return the updated balance\n",
        "\n",
        "def withdraw(balance, amount):\n",
        "  if amount <= balance:\n",
        "    balance -= amount\n",
        "    print(f\"Withdrew: {amount}. New balance: {balance}\")\n",
        "  else:\n",
        "    print(\"Insufficient funds\")\n",
        "  return balance # Return the updated balance\n",
        "\n",
        "def check_balance(balance):\n",
        "  print(f\"Current balance: {balance}\")\n",
        "\n",
        "# Example usage\n",
        "balance = 1000 # Initial balance\n",
        "balance = deposit(balance, 500) # Deposit money\n",
        "balance = withdraw(balance, 200) # Withdraw money\n",
        "check_balance(balance) # Check balance\n"
      ]
    }
  ],
  "metadata": {
    "colab": {
      "provenance": []
    },
    "kernelspec": {
      "display_name": "Python 3",
      "name": "python3"
    },
    "language_info": {
      "codemirror_mode": {
        "name": "ipython",
        "version": 3
      },
      "file_extension": ".py",
      "mimetype": "text/x-python",
      "name": "python",
      "nbconvert_exporter": "python",
      "pygments_lexer": "ipython3",
      "version": "3.13.1"
    }
  },
  "nbformat": 4,
  "nbformat_minor": 0
}
