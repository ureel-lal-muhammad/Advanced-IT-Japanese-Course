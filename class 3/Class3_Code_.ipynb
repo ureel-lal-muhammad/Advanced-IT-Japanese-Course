{
  "nbformat": 4,
  "nbformat_minor": 0,
  "metadata": {
    "colab": {
      "provenance": []
    },
    "kernelspec": {
      "name": "python3",
      "display_name": "Python 3"
    },
    "language_info": {
      "name": "python"
    }
  },
  "cells": [
    {
      "cell_type": "markdown",
      "source": [
        "# Class 3"
      ],
      "metadata": {
        "id": "VS2z9h-K3ey4"
      }
    },
    {
      "cell_type": "markdown",
      "source": [
        "* If and else statements"
      ],
      "metadata": {
        "id": "gbDvW8BL4tU9"
      }
    },
    {
      "cell_type": "code",
      "execution_count": 1,
      "metadata": {
        "id": "QPq40IHS3abf"
      },
      "outputs": [],
      "source": [
        "age = 18\n",
        "if age < 18:\n",
        "  print(\"You are not eligible to vote\")"
      ]
    },
    {
      "cell_type": "code",
      "source": [
        "num = 11\n",
        "if num % 2 == 0:\n",
        "  print(\"Even number\")\n",
        "else:\n",
        "  print(\"Odd number\")"
      ],
      "metadata": {
        "colab": {
          "base_uri": "https://localhost:8080/"
        },
        "id": "o4LQcYsq3vbv",
        "outputId": "e52cff42-33c8-4f16-efa7-35f3ee7abbfc"
      },
      "execution_count": 2,
      "outputs": [
        {
          "output_type": "stream",
          "name": "stdout",
          "text": [
            "Odd number\n"
          ]
        }
      ]
    },
    {
      "cell_type": "code",
      "source": [
        "marks = 85\n",
        "if marks >= 90:\n",
        "  print(\"Grade A\")\n",
        "elif marks >= 80:\n",
        "  print(\"Grade B\")\n",
        "elif marks >= 70:\n",
        "  print(\"Grade C\")\n",
        "elif marks >= 60:\n",
        "  print(\"Grade D\")"
      ],
      "metadata": {
        "colab": {
          "base_uri": "https://localhost:8080/"
        },
        "id": "N6VI-9kI38Dz",
        "outputId": "039336d6-7bc6-4c86-ef28-a8039b65184c"
      },
      "execution_count": 3,
      "outputs": [
        {
          "output_type": "stream",
          "name": "stdout",
          "text": [
            "Grade B\n"
          ]
        }
      ]
    },
    {
      "cell_type": "code",
      "source": [
        "num = 15\n",
        "if num > 10:\n",
        "  if num % 2 == 0:\n",
        "    print(\"Even number greater then 10\")\n",
        "  else:\n",
        "    print(\"Odd number greater then 10\")\n"
      ],
      "metadata": {
        "colab": {
          "base_uri": "https://localhost:8080/"
        },
        "id": "XJrS1epQ4C4X",
        "outputId": "6e775219-6fe5-4eb4-a6c0-23952415ad12"
      },
      "execution_count": 4,
      "outputs": [
        {
          "output_type": "stream",
          "name": "stdout",
          "text": [
            "Odd number greater then 10\n"
          ]
        }
      ]
    },
    {
      "cell_type": "code",
      "source": [
        "is_adult = True\n",
        "has_voter_id = False\n",
        "if is_adult and has_voter_id:\n",
        "  print(\"You are eligible to vote\")\n",
        "else:\n",
        "  print(\"You are not eligible to vote\")"
      ],
      "metadata": {
        "colab": {
          "base_uri": "https://localhost:8080/"
        },
        "id": "DSE6LjpA4QxC",
        "outputId": "10af96c4-3a9d-4b47-c83b-0ced6cac7941"
      },
      "execution_count": 5,
      "outputs": [
        {
          "output_type": "stream",
          "name": "stdout",
          "text": [
            "You are not eligible to vote\n"
          ]
        }
      ]
    },
    {
      "cell_type": "code",
      "source": [
        "age = 28\n",
        "\n",
        "message = \"Adult\" if age >= 18 else \"Minor\"\n",
        "print(message)"
      ],
      "metadata": {
        "colab": {
          "base_uri": "https://localhost:8080/"
        },
        "id": "2u6xXNDv4bG8",
        "outputId": "a8fc5158-1818-4914-80fd-53163a13c6c7"
      },
      "execution_count": 6,
      "outputs": [
        {
          "output_type": "stream",
          "name": "stdout",
          "text": [
            "Adult\n"
          ]
        }
      ]
    },
    {
      "cell_type": "markdown",
      "source": [
        "* Match Case"
      ],
      "metadata": {
        "id": "-HyPkhnY4qmR"
      }
    },
    {
      "cell_type": "code",
      "source": [
        "color = \"yellow\"\n",
        "\n",
        "match color:\n",
        "  case \"red\":\n",
        "    print(\"Stop\")\n",
        "  case \"yellow\":\n",
        "    print(\"Get Ready\")\n",
        "  case \"green\":\n",
        "    print(\"Go\")\n",
        "  case _:\n",
        "    print(\"Invalid color\")"
      ],
      "metadata": {
        "colab": {
          "base_uri": "https://localhost:8080/"
        },
        "id": "j5K93UoD4xrD",
        "outputId": "b81f9345-683d-4b41-e4de-de1c28b0ad66"
      },
      "execution_count": 7,
      "outputs": [
        {
          "output_type": "stream",
          "name": "stdout",
          "text": [
            "Get Ready\n"
          ]
        }
      ]
    },
    {
      "cell_type": "markdown",
      "source": [
        "* Iterating over a list"
      ],
      "metadata": {
        "id": "hvQozfPD5akN"
      }
    },
    {
      "cell_type": "code",
      "source": [
        "fruits = [\"apple\",\"banana\",\"cherry\",\"orange\"]\n",
        "\n",
        "for fruit in fruits:\n",
        "  print(fruit)\n"
      ],
      "metadata": {
        "colab": {
          "base_uri": "https://localhost:8080/"
        },
        "id": "lOhYtRZO5ZiQ",
        "outputId": "6b36a620-3bf6-4e9c-993e-e2016b427f61"
      },
      "execution_count": 8,
      "outputs": [
        {
          "output_type": "stream",
          "name": "stdout",
          "text": [
            "apple\n",
            "banana\n",
            "cherry\n",
            "orange\n"
          ]
        }
      ]
    },
    {
      "cell_type": "markdown",
      "source": [
        "* Iterating over a string"
      ],
      "metadata": {
        "id": "zk_jCYGq5yud"
      }
    },
    {
      "cell_type": "code",
      "source": [
        "for char in \"PlusW\":\n",
        "  print(char)"
      ],
      "metadata": {
        "colab": {
          "base_uri": "https://localhost:8080/"
        },
        "id": "tMUOfLlS52NV",
        "outputId": "f6ae7ffc-6e77-4baa-d530-0d1801b6b5fd"
      },
      "execution_count": 9,
      "outputs": [
        {
          "output_type": "stream",
          "name": "stdout",
          "text": [
            "P\n",
            "l\n",
            "u\n",
            "s\n",
            "W\n"
          ]
        }
      ]
    },
    {
      "cell_type": "markdown",
      "source": [
        "* Iterating over a dictionary"
      ],
      "metadata": {
        "id": "uJkw645T6HV2"
      }
    },
    {
      "cell_type": "code",
      "source": [
        "person = {\"Name\":\"ureel\",\"Age\":21,\"City\":\"Karachi\",\"Gender\":\"female\",\"Program\":\"BSCS\"}\n",
        "\n",
        "for key,value in person.items():\n",
        "  print(f\"{key} : {value}\")"
      ],
      "metadata": {
        "colab": {
          "base_uri": "https://localhost:8080/"
        },
        "id": "2-YLGdqy6MKG",
        "outputId": "de4b4b77-4fca-4499-ee19-1f68e4e34e10"
      },
      "execution_count": 12,
      "outputs": [
        {
          "output_type": "stream",
          "name": "stdout",
          "text": [
            "Name : ureel\n",
            "Age : 21\n",
            "City : Karachi\n",
            "Gender : female\n",
            "Program : BSCS\n"
          ]
        }
      ]
    },
    {
      "cell_type": "markdown",
      "source": [
        "* Iterating over a range of numbers"
      ],
      "metadata": {
        "id": "_lS4h2ql617u"
      }
    },
    {
      "cell_type": "code",
      "source": [
        "for i in range(10):\n",
        "  print(i)"
      ],
      "metadata": {
        "colab": {
          "base_uri": "https://localhost:8080/"
        },
        "id": "VMugNtXM66Cd",
        "outputId": "2b97e257-a7c6-4c55-abd6-67f2d5e8131e"
      },
      "execution_count": 13,
      "outputs": [
        {
          "output_type": "stream",
          "name": "stdout",
          "text": [
            "0\n",
            "1\n",
            "2\n",
            "3\n",
            "4\n",
            "5\n",
            "6\n",
            "7\n",
            "8\n",
            "9\n"
          ]
        }
      ]
    },
    {
      "cell_type": "markdown",
      "source": [
        "* Custom range with start , stop and step"
      ],
      "metadata": {
        "id": "CGoB3wB-7Svo"
      }
    },
    {
      "cell_type": "code",
      "source": [
        "for i in range(1,10,3):\n",
        "  print(i)"
      ],
      "metadata": {
        "colab": {
          "base_uri": "https://localhost:8080/"
        },
        "id": "0A8gpivu7iXy",
        "outputId": "405d815a-2753-4b95-ba87-f0887e801ada"
      },
      "execution_count": 14,
      "outputs": [
        {
          "output_type": "stream",
          "name": "stdout",
          "text": [
            "1\n",
            "4\n",
            "7\n"
          ]
        }
      ]
    },
    {
      "cell_type": "code",
      "source": [
        "count = 0\n",
        "while count < 5:\n",
        "  print(f\"Count : {count}\")\n",
        "  count += 1\n",
        "  print(f\"After increment : {count}\")"
      ],
      "metadata": {
        "colab": {
          "base_uri": "https://localhost:8080/"
        },
        "id": "CzsehmTM793A",
        "outputId": "8d89a361-954f-4ef0-c66f-4f1d41cbb3fb"
      },
      "execution_count": 15,
      "outputs": [
        {
          "output_type": "stream",
          "name": "stdout",
          "text": [
            "Count : 0\n",
            "After increment : 1\n",
            "Count : 1\n",
            "After increment : 2\n",
            "Count : 2\n",
            "After increment : 3\n",
            "Count : 3\n",
            "After increment : 4\n",
            "Count : 4\n",
            "After increment : 5\n"
          ]
        }
      ]
    },
    {
      "cell_type": "markdown",
      "source": [
        "* Infinte Loops and Breaking Conditions"
      ],
      "metadata": {
        "id": "X-krM7LG8ZuU"
      }
    },
    {
      "cell_type": "code",
      "source": [
        "while True:\n",
        "  user_input = input(\"Enter 'quit' to exit :\")\n",
        "  if user_input.lower() == 'quit':\n",
        "    print(\"Exiting Loop\")\n",
        "    break"
      ],
      "metadata": {
        "colab": {
          "base_uri": "https://localhost:8080/"
        },
        "id": "ZAEY9-IF8dhQ",
        "outputId": "5a0fa44a-aa16-4c2d-fa8d-77f91387478b"
      },
      "execution_count": 16,
      "outputs": [
        {
          "output_type": "stream",
          "name": "stdout",
          "text": [
            "Enter 'quit' to exit :quit\n",
            "Exiting Loop\n"
          ]
        }
      ]
    },
    {
      "cell_type": "markdown",
      "source": [
        "Break Statement , Continue Statement and pass Statement Loop Control Statement"
      ],
      "metadata": {
        "id": "maLLwBaJ87aP"
      }
    },
    {
      "cell_type": "code",
      "source": [
        "for i in range(10):\n",
        "  if i == 5:\n",
        "    print(\"Breaking Loop\")\n",
        "    break\n",
        "  print(i)"
      ],
      "metadata": {
        "colab": {
          "base_uri": "https://localhost:8080/"
        },
        "id": "pCdmhqFJ9IPA",
        "outputId": "6cdc0754-fc0d-4d0f-e7db-243411e3f1da"
      },
      "execution_count": 17,
      "outputs": [
        {
          "output_type": "stream",
          "name": "stdout",
          "text": [
            "0\n",
            "1\n",
            "2\n",
            "3\n",
            "4\n",
            "Breaking Loop\n"
          ]
        }
      ]
    },
    {
      "cell_type": "code",
      "source": [
        "for i in range(10):\n",
        "  if i % 2 != 0:\n",
        "    continue\n",
        "  print(i)"
      ],
      "metadata": {
        "colab": {
          "base_uri": "https://localhost:8080/"
        },
        "id": "9hLmOwgC9fVM",
        "outputId": "b5c3dee1-c5e8-4518-f74f-32a629bef8d0"
      },
      "execution_count": 18,
      "outputs": [
        {
          "output_type": "stream",
          "name": "stdout",
          "text": [
            "0\n",
            "2\n",
            "4\n",
            "6\n",
            "8\n"
          ]
        }
      ]
    },
    {
      "cell_type": "code",
      "source": [
        "for i in range(5):\n",
        "  print (f\"Processing {i}\")\n",
        "  if i == 3:\n",
        "    pass # Placeholder\n",
        "    print (f\"Processing {i}\")"
      ],
      "metadata": {
        "colab": {
          "base_uri": "https://localhost:8080/"
        },
        "id": "lPfAknsW9vjF",
        "outputId": "57d0d3c7-7bbe-491b-d4b0-82a329c67199"
      },
      "execution_count": 19,
      "outputs": [
        {
          "output_type": "stream",
          "name": "stdout",
          "text": [
            "Processing 0\n",
            "Processing 1\n",
            "Processing 2\n",
            "Processing 3\n",
            "Processing 3\n",
            "Processing 4\n"
          ]
        }
      ]
    },
    {
      "cell_type": "markdown",
      "source": [
        "* Looping inside loop"
      ],
      "metadata": {
        "id": "hSBwjKLW-VZ4"
      }
    },
    {
      "cell_type": "code",
      "source": [
        "for i in range(3):\n",
        "  for j in range(2):\n",
        "    for h in range(2):\n",
        "      print(f\" i = {i} | j = {j} | h = {h}\")"
      ],
      "metadata": {
        "colab": {
          "base_uri": "https://localhost:8080/"
        },
        "id": "Zr72-9V4-Y6V",
        "outputId": "fbf3c29e-7121-4619-e053-6010013f85a8"
      },
      "execution_count": 20,
      "outputs": [
        {
          "output_type": "stream",
          "name": "stdout",
          "text": [
            " i = 0 | j = 0 | h = 0\n",
            " i = 0 | j = 0 | h = 1\n",
            " i = 0 | j = 1 | h = 0\n",
            " i = 0 | j = 1 | h = 1\n",
            " i = 1 | j = 0 | h = 0\n",
            " i = 1 | j = 0 | h = 1\n",
            " i = 1 | j = 1 | h = 0\n",
            " i = 1 | j = 1 | h = 1\n",
            " i = 2 | j = 0 | h = 0\n",
            " i = 2 | j = 0 | h = 1\n",
            " i = 2 | j = 1 | h = 0\n",
            " i = 2 | j = 1 | h = 1\n"
          ]
        }
      ]
    },
    {
      "cell_type": "markdown",
      "source": [
        "* Practical Example: Multiplication"
      ],
      "metadata": {
        "id": "jElHGpJj-p0O"
      }
    },
    {
      "cell_type": "code",
      "source": [
        "for i in range(1,10):\n",
        "  for j in range(1,4):\n",
        "    print(f\"{i} x {j} = {i*j}\")\n",
        "  print(\"==========\")"
      ],
      "metadata": {
        "colab": {
          "base_uri": "https://localhost:8080/"
        },
        "id": "7P0YMOD6-t9J",
        "outputId": "07ff6755-9856-4c48-f45f-8aae6ddc44b6"
      },
      "execution_count": 21,
      "outputs": [
        {
          "output_type": "stream",
          "name": "stdout",
          "text": [
            "1 x 1 = 1\n",
            "1 x 2 = 2\n",
            "1 x 3 = 3\n",
            "==========\n",
            "2 x 1 = 2\n",
            "2 x 2 = 4\n",
            "2 x 3 = 6\n",
            "==========\n",
            "3 x 1 = 3\n",
            "3 x 2 = 6\n",
            "3 x 3 = 9\n",
            "==========\n",
            "4 x 1 = 4\n",
            "4 x 2 = 8\n",
            "4 x 3 = 12\n",
            "==========\n",
            "5 x 1 = 5\n",
            "5 x 2 = 10\n",
            "5 x 3 = 15\n",
            "==========\n",
            "6 x 1 = 6\n",
            "6 x 2 = 12\n",
            "6 x 3 = 18\n",
            "==========\n",
            "7 x 1 = 7\n",
            "7 x 2 = 14\n",
            "7 x 3 = 21\n",
            "==========\n",
            "8 x 1 = 8\n",
            "8 x 2 = 16\n",
            "8 x 3 = 24\n",
            "==========\n",
            "9 x 1 = 9\n",
            "9 x 2 = 18\n",
            "9 x 3 = 27\n",
            "==========\n"
          ]
        }
      ]
    },
    {
      "cell_type": "markdown",
      "source": [
        "* Using else with loops"
      ],
      "metadata": {
        "id": "JHig8fne_pSX"
      }
    },
    {
      "cell_type": "code",
      "source": [
        "for num in range(5):\n",
        "  print(num)\n",
        "else:\n",
        "  print(\"Loop Completed Successfully\")"
      ],
      "metadata": {
        "colab": {
          "base_uri": "https://localhost:8080/"
        },
        "id": "Jy229gJ1_rZ0",
        "outputId": "ef12ce2b-d339-4f87-d97b-fb11fae6030b"
      },
      "execution_count": 22,
      "outputs": [
        {
          "output_type": "stream",
          "name": "stdout",
          "text": [
            "0\n",
            "1\n",
            "2\n",
            "3\n",
            "4\n",
            "Loop Completed Successfully\n"
          ]
        }
      ]
    },
    {
      "cell_type": "code",
      "source": [
        "for num in range(5):\n",
        "  if num == 3:\n",
        "    print(\"Breaking the loop\")\n",
        "    break\n",
        "  print(num)\n",
        "\n",
        "else:\n",
        "  print(\"Loop completed without breaking\")"
      ],
      "metadata": {
        "colab": {
          "base_uri": "https://localhost:8080/"
        },
        "id": "jbZMLchk_unX",
        "outputId": "065c6349-95b7-4e36-9ecf-35c119cfca44"
      },
      "execution_count": 23,
      "outputs": [
        {
          "output_type": "stream",
          "name": "stdout",
          "text": [
            "0\n",
            "1\n",
            "2\n",
            "Breaking the loop\n"
          ]
        }
      ]
    },
    {
      "cell_type": "code",
      "source": [
        "nums = [1,2,3,4,5]\n",
        "search = 3\n",
        "for num in nums:\n",
        "  if num == search:\n",
        "    print(f\"{search} Found in the list\")\n",
        "    break\n",
        "else:\n",
        "  print(f\"{search} Not Found in the list\")"
      ],
      "metadata": {
        "colab": {
          "base_uri": "https://localhost:8080/"
        },
        "id": "FO_J6lJuASs-",
        "outputId": "a0c253c4-631a-40e0-94fc-3d5318bb8572"
      },
      "execution_count": 24,
      "outputs": [
        {
          "output_type": "stream",
          "name": "stdout",
          "text": [
            "3 Found in the list\n"
          ]
        }
      ]
    },
    {
      "cell_type": "markdown",
      "source": [
        "* Functions"
      ],
      "metadata": {
        "id": "HEsvaCZdAilw"
      }
    },
    {
      "cell_type": "code",
      "source": [
        "def greet():\n",
        "  print(\"Hello Python\")"
      ],
      "metadata": {
        "id": "m30gxoMHAiM5"
      },
      "execution_count": 25,
      "outputs": []
    },
    {
      "cell_type": "code",
      "source": [
        "def greet_user(name):\n",
        "  print(f\"Hello {name}\")"
      ],
      "metadata": {
        "id": "QTw0bgJOAotv"
      },
      "execution_count": 26,
      "outputs": []
    },
    {
      "cell_type": "code",
      "source": [
        "greet()"
      ],
      "metadata": {
        "colab": {
          "base_uri": "https://localhost:8080/"
        },
        "id": "MA4taKiwAwUb",
        "outputId": "e8730597-032d-4010-ad57-78a04832b325"
      },
      "execution_count": 27,
      "outputs": [
        {
          "output_type": "stream",
          "name": "stdout",
          "text": [
            "Hello Python\n"
          ]
        }
      ]
    },
    {
      "cell_type": "code",
      "source": [
        "greet_user(\"ureel\")"
      ],
      "metadata": {
        "colab": {
          "base_uri": "https://localhost:8080/"
        },
        "id": "5S2tjYVYA14H",
        "outputId": "9db48580-70aa-4180-b6b0-fcffffa77b6d"
      },
      "execution_count": 28,
      "outputs": [
        {
          "output_type": "stream",
          "name": "stdout",
          "text": [
            "Hello ureel\n"
          ]
        }
      ]
    },
    {
      "cell_type": "code",
      "source": [
        "def add(a,b):\n",
        "  return a+b\n",
        "def display_info(name,age):\n",
        "  return(f\"Name : {name} | Age : {age}\")"
      ],
      "metadata": {
        "id": "vBUZOyMDBJWo"
      },
      "execution_count": 29,
      "outputs": []
    },
    {
      "cell_type": "code",
      "source": [
        "print(add(5,10))"
      ],
      "metadata": {
        "colab": {
          "base_uri": "https://localhost:8080/"
        },
        "id": "UULLplsQBVs1",
        "outputId": "992cbc3f-7adf-400d-d484-9532ba24aefc"
      },
      "execution_count": 30,
      "outputs": [
        {
          "output_type": "stream",
          "name": "stdout",
          "text": [
            "15\n"
          ]
        }
      ]
    },
    {
      "cell_type": "code",
      "source": [
        "print(display_info(\"ureelr\",21))"
      ],
      "metadata": {
        "colab": {
          "base_uri": "https://localhost:8080/"
        },
        "id": "Cf83ETVMBocO",
        "outputId": "b1989fcc-b570-47b9-b8e9-09ecf2148036"
      },
      "execution_count": 31,
      "outputs": [
        {
          "output_type": "stream",
          "name": "stdout",
          "text": [
            "Name : ureelr | Age : 21\n"
          ]
        }
      ]
    },
    {
      "cell_type": "code",
      "source": [
        "def calculate(a,b):\n",
        "  return a+b , a-b"
      ],
      "metadata": {
        "id": "ly44OAd3ByNQ"
      },
      "execution_count": 32,
      "outputs": []
    },
    {
      "cell_type": "code",
      "source": [
        "sum , diff = calculate(10,20)\n",
        "print(f\"Sum : {sum} | Diff : {diff}\")\n"
      ],
      "metadata": {
        "colab": {
          "base_uri": "https://localhost:8080/"
        },
        "id": "hb6nVanLB_u8",
        "outputId": "86531891-9456-49a5-a2ea-f0fd55579c41"
      },
      "execution_count": 33,
      "outputs": [
        {
          "output_type": "stream",
          "name": "stdout",
          "text": [
            "Sum : 30 | Diff : -10\n"
          ]
        }
      ]
    },
    {
      "cell_type": "code",
      "source": [
        "def greet(name , greeting):\n",
        "  return f\"{greeting} {name}\"\n",
        "\n",
        "print(greet(greeting = \"Hello\",name = \"ureel\"))"
      ],
      "metadata": {
        "colab": {
          "base_uri": "https://localhost:8080/"
        },
        "id": "NZxlkHlqCLqI",
        "outputId": "6e2d2829-9b24-456f-db43-d77f767554ba"
      },
      "execution_count": 34,
      "outputs": [
        {
          "output_type": "stream",
          "name": "stdout",
          "text": [
            "Hello ureel\n"
          ]
        }
      ]
    },
    {
      "cell_type": "code",
      "source": [
        "def greet(name = \"Ali\", greeting = \"Hey\"):\n",
        "  return f\"{greeting} {name} !!!\"\n",
        "\n",
        "print(greet(greeting = \"Hello\",name = \"ureel\"))\n",
        "print(greet( \"ureel\"))\n",
        "print(greet())\n"
      ],
      "metadata": {
        "colab": {
          "base_uri": "https://localhost:8080/"
        },
        "id": "Gx5ZquWCCre2",
        "outputId": "19b9c400-54cd-4087-e011-1b3b025e5182"
      },
      "execution_count": 35,
      "outputs": [
        {
          "output_type": "stream",
          "name": "stdout",
          "text": [
            "Hello ureel !!!\n",
            "Hey ureel !!!\n",
            "Hey Ali !!!\n"
          ]
        }
      ]
    },
    {
      "cell_type": "markdown",
      "source": [
        "* Arbitary Arguments"
      ],
      "metadata": {
        "id": "0Ml-B3KvDGwP"
      }
    },
    {
      "cell_type": "code",
      "source": [
        "def print_arg(*args):\n",
        "  for arg in args:\n",
        "    print(arg)\n",
        "\n",
        "print_arg(1,2,3,4,5,6,7,8,9)"
      ],
      "metadata": {
        "colab": {
          "base_uri": "https://localhost:8080/"
        },
        "id": "fR9JCDbuDFiG",
        "outputId": "aeb1464a-1e62-40c4-9d06-83a2fe440e2c"
      },
      "execution_count": 36,
      "outputs": [
        {
          "output_type": "stream",
          "name": "stdout",
          "text": [
            "1\n",
            "2\n",
            "3\n",
            "4\n",
            "5\n",
            "6\n",
            "7\n",
            "8\n",
            "9\n"
          ]
        }
      ]
    },
    {
      "cell_type": "code",
      "source": [
        "def print_kvargs(**kvargs):\n",
        "  for key, value in kvargs.items():\n",
        "    print(f\"{key} : {value}\")\n",
        "\n",
        "print_kvargs(name = \"ureel\", age = 21, city = \"Karachi\")\n"
      ],
      "metadata": {
        "colab": {
          "base_uri": "https://localhost:8080/"
        },
        "id": "MpCQjhMEDX46",
        "outputId": "1ad7d896-28fd-413a-82a4-7e8b8740cf30"
      },
      "execution_count": 38,
      "outputs": [
        {
          "output_type": "stream",
          "name": "stdout",
          "text": [
            "name : ureel\n",
            "age : 21\n",
            "city : Karachi\n"
          ]
        }
      ]
    },
    {
      "cell_type": "markdown",
      "source": [
        "* Lamda function"
      ],
      "metadata": {
        "id": "G-4clp_iD46D"
      }
    },
    {
      "cell_type": "code",
      "source": [
        "square = lambda x : x**2\n",
        "print(square(10))\n"
      ],
      "metadata": {
        "colab": {
          "base_uri": "https://localhost:8080/"
        },
        "id": "bEk8FZTfD4g5",
        "outputId": "6a167c5e-3644-4c49-e747-6768db6e5b01"
      },
      "execution_count": null,
      "outputs": [
        {
          "output_type": "stream",
          "name": "stdout",
          "text": [
            "100\n"
          ]
        }
      ]
    }
  ]
}